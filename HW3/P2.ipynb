{
 "cells": [
  {
   "cell_type": "code",
   "execution_count": 2,
   "metadata": {},
   "outputs": [],
   "source": [
    "import numpy as np\n",
    "\n",
    "import P1_1\n",
    "import P2_1\n",
    "import P2_2"
   ]
  },
  {
   "cell_type": "markdown",
   "metadata": {},
   "source": [
    "### Batch training"
   ]
  },
  {
   "cell_type": "markdown",
   "metadata": {},
   "source": [
    "이해한 것이 맞다면 \\\n",
    "Online code에서 Batch size를 1000(데이터 전체 크기)으로하면 \\\n",
    "Batch Training 아닌가요? \\\n",
    "그래서 따로 안함!"
   ]
  },
  {
   "cell_type": "markdown",
   "metadata": {},
   "source": [
    "### Online training"
   ]
  },
  {
   "cell_type": "code",
   "execution_count": 1,
   "metadata": {},
   "outputs": [],
   "source": [
    "import numpy as np\n",
    "\n",
    "import P1_1\n",
    "import P2"
   ]
  },
  {
   "cell_type": "code",
   "execution_count": 2,
   "metadata": {},
   "outputs": [],
   "source": [
    "#Generate data set\n",
    "X_train, Y_train, X_test, Y_test = P1_1.Generate_train_test_data(500)\n",
    "#2-D Weight between 0~0.1 and 0.1 for Bias\n",
    "Weight = np.random.random(2)\n",
    "Bias = 1"
   ]
  },
  {
   "cell_type": "code",
   "execution_count": 3,
   "metadata": {},
   "outputs": [
    {
     "name": "stdout",
     "output_type": "stream",
     "text": [
      "[0.7868906  0.83851164] 1\n"
     ]
    }
   ],
   "source": [
    "single_nn = P2.Single_layer_neural_network(Weight, Bias)\n",
    "print(Weight, Bias)"
   ]
  },
  {
   "cell_type": "code",
   "execution_count": 4,
   "metadata": {},
   "outputs": [
    {
     "name": "stdout",
     "output_type": "stream",
     "text": [
      "1.9945461858652127\n",
      "1.9019099308159233\n",
      "0.0028340468854994782\n",
      "0.0008657745388662991\n",
      "0.0013439405964654296\n",
      "pre = 0.0008657745388662991\n",
      "epoch = 0, iteration = 4, early stop\n"
     ]
    }
   ],
   "source": [
    "final_weight, final_bias = single_nn.Train(X_train, Y_train, epoch = 10000, batch_size = 100)"
   ]
  },
  {
   "cell_type": "code",
   "execution_count": 5,
   "metadata": {},
   "outputs": [
    {
     "data": {
      "text/plain": [
       "[1.9945461858652127,\n",
       " 1.9019099308159233,\n",
       " 0.0028340468854994782,\n",
       " 0.0008657745388662991,\n",
       " 0.0013439405964654296]"
      ]
     },
     "execution_count": 5,
     "metadata": {},
     "output_type": "execute_result"
    }
   ],
   "source": [
    "single_nn.log"
   ]
  },
  {
   "cell_type": "code",
   "execution_count": 6,
   "metadata": {},
   "outputs": [],
   "source": [
    "#predict X_test\n",
    "pred = []\n",
    "for item in X_test:\n",
    "    pred.append(single_nn.predict(item))\n",
    "\n",
    "#calculate accuracy    \n",
    "accuracy = P2.Accuracy(pred, Y_test)"
   ]
  },
  {
   "cell_type": "code",
   "execution_count": 7,
   "metadata": {},
   "outputs": [
    {
     "name": "stdout",
     "output_type": "stream",
     "text": [
      "Accuracy : 0.69, Weight : [-3.53368261  4.04107991], Bias : -6.731071389802362\n"
     ]
    }
   ],
   "source": [
    "print(f\"Accuracy : {accuracy}, Weight : {single_nn.affine.w}, Bias : {single_nn.affine.b}\")"
   ]
  }
 ],
 "metadata": {
  "interpreter": {
   "hash": "418ec1ce35a4fd63396f5da21f0079b494a3a09ebdcc1e5da80233ed37ee8285"
  },
  "kernelspec": {
   "display_name": "Python 3.9.7",
   "language": "python",
   "name": "python3"
  },
  "language_info": {
   "codemirror_mode": {
    "name": "ipython",
    "version": 3
   },
   "file_extension": ".py",
   "mimetype": "text/x-python",
   "name": "python",
   "nbconvert_exporter": "python",
   "pygments_lexer": "ipython3",
   "version": "3.9.7"
  },
  "orig_nbformat": 4
 },
 "nbformat": 4,
 "nbformat_minor": 2
}
