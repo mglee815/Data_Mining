{
 "cells": [
  {
   "cell_type": "markdown",
   "metadata": {},
   "source": [
    "### Batch training"
   ]
  },
  {
   "cell_type": "markdown",
   "metadata": {},
   "source": [
    "이해한 것이 맞다면 \\\n",
    "Online code에서 Batch size를 1000(데이터 전체 크기)으로하면 \\\n",
    "Batch Training 아닌가요? \\\n",
    "그래서 따로 안함!"
   ]
  },
  {
   "cell_type": "markdown",
   "metadata": {},
   "source": [
    "### Online training"
   ]
  },
  {
   "cell_type": "code",
   "execution_count": 13,
   "metadata": {},
   "outputs": [],
   "source": [
    "import numpy as np\n",
    "\n",
    "import P1_1\n",
    "import P2"
   ]
  },
  {
   "cell_type": "code",
   "execution_count": 14,
   "metadata": {},
   "outputs": [
    {
     "name": "stdout",
     "output_type": "stream",
     "text": [
      "[0.90386915 0.40862916] 1\n"
     ]
    }
   ],
   "source": [
    "#Generate data set\n",
    "X_train, Y_train, X_test, Y_test = P1_1.Generate_train_test_data(500)\n",
    "#2-D Weight between 0~0.1 and 0.1 for Bias\n",
    "Weight = np.random.random(2)\n",
    "Bias = 1\n",
    "\n",
    "single_nn = P2.Single_layer_neural_network(Weight, Bias, 0.1)\n",
    "print(Weight, Bias)"
   ]
  },
  {
   "cell_type": "code",
   "execution_count": 17,
   "metadata": {},
   "outputs": [],
   "source": [
    "final_weight, final_bias = single_nn.Train(X_train, Y_train, epoch = 10000, batch_size = 100)"
   ]
  },
  {
   "cell_type": "code",
   "execution_count": 28,
   "metadata": {},
   "outputs": [],
   "source": [
    "#predict X_test\n",
    "pred = []\n",
    "for item in X_test:\n",
    "    pred.append(single_nn.predict(item))\n",
    "\n",
    "#calculate accuracy    \n",
    "accuracy = P2.Accuracy(pred, Y_test)"
   ]
  },
  {
   "cell_type": "code",
   "execution_count": 29,
   "metadata": {},
   "outputs": [
    {
     "name": "stdout",
     "output_type": "stream",
     "text": [
      "Accuracy : 0.96, Weight : [-4.60250974  4.92209144], Bias : -1.2034340950015399\n"
     ]
    }
   ],
   "source": [
    "print(f\"Accuracy : {accuracy}, Weight : {single_nn.affine.w}, Bias : {single_nn.affine.b}\")"
   ]
  }
 ],
 "metadata": {
  "interpreter": {
   "hash": "418ec1ce35a4fd63396f5da21f0079b494a3a09ebdcc1e5da80233ed37ee8285"
  },
  "kernelspec": {
   "display_name": "Python 3.9.7",
   "language": "python",
   "name": "python3"
  },
  "language_info": {
   "codemirror_mode": {
    "name": "ipython",
    "version": 3
   },
   "file_extension": ".py",
   "mimetype": "text/x-python",
   "name": "python",
   "nbconvert_exporter": "python",
   "pygments_lexer": "ipython3",
   "version": "3.9.7"
  },
  "orig_nbformat": 4
 },
 "nbformat": 4,
 "nbformat_minor": 2
}
