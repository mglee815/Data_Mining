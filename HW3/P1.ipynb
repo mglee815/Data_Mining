{
 "cells": [
  {
   "cell_type": "code",
   "execution_count": 1,
   "metadata": {},
   "outputs": [],
   "source": [
    "import numpy as np\n",
    "import pandas as pd\n",
    "import matplotlib.pyplot as plt"
   ]
  },
  {
   "cell_type": "markdown",
   "metadata": {},
   "source": [
    "Data Preparation"
   ]
  },
  {
   "cell_type": "code",
   "execution_count": 2,
   "metadata": {},
   "outputs": [],
   "source": [
    "import P1_1"
   ]
  },
  {
   "cell_type": "code",
   "execution_count": 3,
   "metadata": {},
   "outputs": [],
   "source": [
    "preds, posts, errs = P1_1.Run_myNB(10, 10)"
   ]
  },
  {
   "cell_type": "code",
   "execution_count": 4,
   "metadata": {},
   "outputs": [
    {
     "data": {
      "text/plain": [
       "[[0.96, 0.7710843373493976, 0.8375],\n",
       " [0.8, 0.9815950920245399, 0.8925],\n",
       " [0.92, 0.8846153846153846, 0.9],\n",
       " [0.96, 0.7868852459016393, 0.85],\n",
       " [0.855, 0.9715909090909091, 0.915],\n",
       " [0.97, 0.7950819672131147, 0.86],\n",
       " [0.975, 0.6890459363957597, 0.7675],\n",
       " [0.92, 0.8888888888888888, 0.9025],\n",
       " [0.85, 0.8854166666666666, 0.87],\n",
       " [0.945, 0.756, 0.82]]"
      ]
     },
     "execution_count": 4,
     "metadata": {},
     "output_type": "execute_result"
    }
   ],
   "source": [
    "errs"
   ]
  },
  {
   "cell_type": "markdown",
   "metadata": {},
   "source": [
    "### P1_2"
   ]
  },
  {
   "cell_type": "code",
   "execution_count": 5,
   "metadata": {},
   "outputs": [],
   "source": [
    "import pandas as pd\n",
    "import P1_2"
   ]
  },
  {
   "cell_type": "code",
   "execution_count": 9,
   "metadata": {},
   "outputs": [
    {
     "data": {
      "text/html": [
       "<div>\n",
       "<style scoped>\n",
       "    .dataframe tbody tr th:only-of-type {\n",
       "        vertical-align: middle;\n",
       "    }\n",
       "\n",
       "    .dataframe tbody tr th {\n",
       "        vertical-align: top;\n",
       "    }\n",
       "\n",
       "    .dataframe thead th {\n",
       "        text-align: right;\n",
       "    }\n",
       "</style>\n",
       "<table border=\"1\" class=\"dataframe\">\n",
       "  <thead>\n",
       "    <tr style=\"text-align: right;\">\n",
       "      <th></th>\n",
       "      <th>FT%</th>\n",
       "      <th>2P%</th>\n",
       "      <th>3P%</th>\n",
       "      <th>PPG</th>\n",
       "      <th>RPG</th>\n",
       "      <th>APG</th>\n",
       "      <th>SPG</th>\n",
       "      <th>BPG</th>\n",
       "      <th>TOP</th>\n",
       "      <th>POS</th>\n",
       "    </tr>\n",
       "  </thead>\n",
       "  <tbody>\n",
       "    <tr>\n",
       "      <th>0</th>\n",
       "      <td>0.589</td>\n",
       "      <td>0.457</td>\n",
       "      <td>0.362</td>\n",
       "      <td>8.6</td>\n",
       "      <td>6.8</td>\n",
       "      <td>1.1</td>\n",
       "      <td>0.52</td>\n",
       "      <td>0.56</td>\n",
       "      <td>1.18</td>\n",
       "      <td>F</td>\n",
       "    </tr>\n",
       "    <tr>\n",
       "      <th>1</th>\n",
       "      <td>0.544</td>\n",
       "      <td>0.557</td>\n",
       "      <td>0.000</td>\n",
       "      <td>7.2</td>\n",
       "      <td>9.9</td>\n",
       "      <td>3.2</td>\n",
       "      <td>0.82</td>\n",
       "      <td>0.76</td>\n",
       "      <td>1.55</td>\n",
       "      <td>C</td>\n",
       "    </tr>\n",
       "    <tr>\n",
       "      <th>2</th>\n",
       "      <td>0.754</td>\n",
       "      <td>0.549</td>\n",
       "      <td>0.000</td>\n",
       "      <td>19.0</td>\n",
       "      <td>10.3</td>\n",
       "      <td>3.5</td>\n",
       "      <td>1.50</td>\n",
       "      <td>0.78</td>\n",
       "      <td>2.70</td>\n",
       "      <td>F-C</td>\n",
       "    </tr>\n",
       "    <tr>\n",
       "      <th>3</th>\n",
       "      <td>0.873</td>\n",
       "      <td>0.580</td>\n",
       "      <td>0.311</td>\n",
       "      <td>13.5</td>\n",
       "      <td>5.6</td>\n",
       "      <td>0.9</td>\n",
       "      <td>0.31</td>\n",
       "      <td>1.02</td>\n",
       "      <td>0.93</td>\n",
       "      <td>F-C</td>\n",
       "    </tr>\n",
       "    <tr>\n",
       "      <th>4</th>\n",
       "      <td>0.722</td>\n",
       "      <td>0.434</td>\n",
       "      <td>0.311</td>\n",
       "      <td>12.8</td>\n",
       "      <td>3.3</td>\n",
       "      <td>2.8</td>\n",
       "      <td>0.82</td>\n",
       "      <td>0.38</td>\n",
       "      <td>1.70</td>\n",
       "      <td>G</td>\n",
       "    </tr>\n",
       "  </tbody>\n",
       "</table>\n",
       "</div>"
      ],
      "text/plain": [
       "     FT%    2P%    3P%   PPG   RPG  APG   SPG   BPG   TOP  POS\n",
       "0  0.589  0.457  0.362   8.6   6.8  1.1  0.52  0.56  1.18    F\n",
       "1  0.544  0.557  0.000   7.2   9.9  3.2  0.82  0.76  1.55    C\n",
       "2  0.754  0.549  0.000  19.0  10.3  3.5  1.50  0.78  2.70  F-C\n",
       "3  0.873  0.580  0.311  13.5   5.6  0.9  0.31  1.02  0.93  F-C\n",
       "4  0.722  0.434  0.311  12.8   3.3  2.8  0.82  0.38  1.70    G"
      ]
     },
     "execution_count": 9,
     "metadata": {},
     "output_type": "execute_result"
    }
   ],
   "source": [
    "\n",
    "FILEPATH = \"./nbastat2021.xlsx\"\n",
    "\n",
    "data = pd.read_excel(FILEPATH)\n",
    "#data.columns\n",
    "\n",
    "#Change columns name\n",
    "data.columns = [\n",
    "    'Name', 'Team', 'GP', 'MPG', 'FT%', '2P%', '3P%',\n",
    "    'PPG', 'RPG', 'APG', 'SPG', 'BPG', 'TOP', 'POS'             \n",
    "                 ]\n",
    "\n",
    "#Create simple dataframe\n",
    "df = data[['FT%', '2P%', '3P%', 'PPG', 'RPG', 'APG', 'SPG', 'BPG', 'TOP', 'POS']]\n",
    "df.head()"
   ]
  },
  {
   "cell_type": "code",
   "execution_count": 10,
   "metadata": {},
   "outputs": [
    {
     "name": "stderr",
     "output_type": "stream",
     "text": [
      "/var/folders/ks/zdzpzdss37j5m0f27_d5d7qh0000gn/T/ipykernel_25610/630500782.py:1: SettingWithCopyWarning: \n",
      "A value is trying to be set on a copy of a slice from a DataFrame.\n",
      "Try using .loc[row_indexer,col_indexer] = value instead\n",
      "\n",
      "See the caveats in the documentation: https://pandas.pydata.org/pandas-docs/stable/user_guide/indexing.html#returning-a-view-versus-a-copy\n",
      "  df['POS'] = P1_2.Str_to_ID(df['POS'])\n"
     ]
    }
   ],
   "source": [
    "df['POS'] = P1_2.Str_to_ID(df['POS'])"
   ]
  },
  {
   "cell_type": "code",
   "execution_count": 11,
   "metadata": {},
   "outputs": [],
   "source": [
    "X_train = df.iloc[:200, :9]\n",
    "Y_train = df.iloc[:200, 9]\n",
    "\n",
    "X_test = df.iloc[200:, :9]\n",
    "Y_test = df.iloc[200:, 9]"
   ]
  },
  {
   "cell_type": "code",
   "execution_count": 12,
   "metadata": {},
   "outputs": [],
   "source": [
    "pred, post, error = P1_2.MultiClass_myNB(X_train, Y_train, X_test, Y_test)"
   ]
  },
  {
   "cell_type": "code",
   "execution_count": 15,
   "metadata": {},
   "outputs": [
    {
     "data": {
      "text/plain": [
       "0.35"
      ]
     },
     "execution_count": 15,
     "metadata": {},
     "output_type": "execute_result"
    }
   ],
   "source": [
    "error"
   ]
  }
 ],
 "metadata": {
  "interpreter": {
   "hash": "418ec1ce35a4fd63396f5da21f0079b494a3a09ebdcc1e5da80233ed37ee8285"
  },
  "kernelspec": {
   "display_name": "Python 3.9.7",
   "language": "python",
   "name": "python3"
  },
  "language_info": {
   "codemirror_mode": {
    "name": "ipython",
    "version": 3
   },
   "file_extension": ".py",
   "mimetype": "text/x-python",
   "name": "python",
   "nbconvert_exporter": "python",
   "pygments_lexer": "ipython3",
   "version": "3.9.7"
  },
  "orig_nbformat": 4
 },
 "nbformat": 4,
 "nbformat_minor": 2
}
